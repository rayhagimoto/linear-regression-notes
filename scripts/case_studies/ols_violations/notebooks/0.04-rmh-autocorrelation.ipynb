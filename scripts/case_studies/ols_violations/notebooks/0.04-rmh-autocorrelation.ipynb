{
 "cells": [
  {
   "cell_type": "markdown",
   "metadata": {},
   "source": [
    "# Imports"
   ]
  },
  {
   "cell_type": "code",
   "execution_count": 3,
   "metadata": {},
   "outputs": [
    {
     "name": "stdout",
     "output_type": "stream",
     "text": [
      "('n_samples', 100)\n"
     ]
    }
   ],
   "source": [
    "import numpy as np\n",
    "import matplotlib.pyplot as plt\n",
    "import statsmodels.api as sm\n",
    "from scipy.stats import norm, t\n",
    "from dataclasses import dataclass\n",
    "\n",
    "@dataclass\n",
    "class SimulationParams:\n",
    "    n_sims : int\n",
    "    n_samples : int\n",
    "    beta : float\n",
    "    alpha : float\n",
    "    rho : float\n",
    "\n",
    "    def __iter__(self):\n",
    "        for (k, v) in self.__dict__.items():\n",
    "            yield k, v\n",
    "\n",
    "params = SimulationParams(\n",
    "    n_sims = 100,\n",
    "    n_samples = 100,\n",
    "    beta = 0.0,\n",
    "    alpha = 0.0,\n",
    "    rho = 0.0,\n",
    ")\n",
    "\n",
    "it = iter(params)\n",
    "\n",
    "res = next(it)\n",
    "res = next(it)\n",
    "\n",
    "print(res)"
   ]
  },
  {
   "cell_type": "markdown",
   "metadata": {},
   "source": [
    "# 1) Data Generation"
   ]
  },
  {
   "cell_type": "code",
   "execution_count": null,
   "metadata": {},
   "outputs": [],
   "source": []
  }
 ],
 "metadata": {
  "kernelspec": {
   "display_name": "ols_env",
   "language": "python",
   "name": "python3"
  },
  "language_info": {
   "codemirror_mode": {
    "name": "ipython",
    "version": 3
   },
   "file_extension": ".py",
   "mimetype": "text/x-python",
   "name": "python",
   "nbconvert_exporter": "python",
   "pygments_lexer": "ipython3",
   "version": "3.10.16"
  }
 },
 "nbformat": 4,
 "nbformat_minor": 2
}
